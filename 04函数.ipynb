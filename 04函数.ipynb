{
 "cells": [
  {
   "cell_type": "markdown",
   "metadata": {},
   "source": [
    "# 函数\n",
    "- 函数是组织好的，可重复使用的，用来实现单一，或相关联功能的代码段。\n",
    "- 函数需要先定义\n",
    "- 定义规则\n",
    "    - 函数代码块以 def 关键词开头，后接函数标识符名称和圆括号()。\n",
    "    - 任何传入参数和自变量必须放在圆括号中间。圆括号之间可以用于定义参数。\n",
    "    - 函数的第一行语句可以选择性地使用文档字符串—用于存放函数说明。\n",
    "    - 函数内容以冒号起始，并且缩进。\n",
    "    - return [表达式] 结束函数，选择性地返回一个值给调用方。不带表达式的return相当于返回 None。\n",
    "- 语法\n",
    "     - def 函数名(): #函数名首字母大写"
   ]
  },
  {
   "cell_type": "code",
   "execution_count": 6,
   "metadata": {},
   "outputs": [
    {
     "name": "stdout",
     "output_type": "stream",
     "text": [
      "我不是函数内的语句\n"
     ]
    }
   ],
   "source": [
    "# 定义函数\n",
    "def func():\n",
    "    \"我是该函数的说明，可选\"\n",
    "    print(\"我是一个无参函数\")\n",
    "print(\"我不是函数内的语句\")"
   ]
  },
  {
   "cell_type": "code",
   "execution_count": 5,
   "metadata": {},
   "outputs": [
    {
     "name": "stdout",
     "output_type": "stream",
     "text": [
      "我是一个无参函数\n"
     ]
    }
   ],
   "source": [
    "# 函数调用\n",
    "func()"
   ]
  },
  {
   "cell_type": "markdown",
   "metadata": {},
   "source": [
    "## 函数的参数和返回值\n",
    "- python中，类型属于对象，变量是没有类型的\n",
    "- 参数:负责给函数传递一些必要的数据或信息\n",
    "    - 形参：在函数定义的时候用到的参数没有具体的值，只是一个占位的符号，成为形参\n",
    "    - 实参：在调用函数的时候输入的值\n",
    "- 返回值：函数的执行结果\n",
    "    - 使用return关键字\n",
    "    - 如果没有return，默认返回一个None\n",
    "    - 函数只要执行return语句，则无条件返回"
   ]
  },
  {
   "cell_type": "code",
   "execution_count": 19,
   "metadata": {},
   "outputs": [
    {
     "name": "stdout",
     "output_type": "stream",
     "text": [
      "美女,你好\n",
      "欢迎下次再来\n",
      "\n",
      "美女说：好的\n"
     ]
    }
   ],
   "source": [
    "# 有参函数\n",
    "# return 使用\n",
    "def hello(man):\n",
    "    print(\"{0},你好\".format(man))\n",
    "    print(\"欢迎下次再来\")\n",
    "    \n",
    "    return \"好的\"\n",
    "    \n",
    "    print(\"return后的语句不会执行\")\n",
    "    \n",
    "\n",
    "man = \"美女\"\n",
    "# 函数调用\n",
    "result = hello(man)\n",
    "print(\"\\n美女说：\"+result)"
   ]
  },
  {
   "cell_type": "code",
   "execution_count": 25,
   "metadata": {},
   "outputs": [
    {
     "name": "stdout",
     "output_type": "stream",
     "text": [
      "Help on built-in function print in module builtins:\n",
      "\n",
      "print(...)\n",
      "    print(value, ..., sep=' ', end='\\n', file=sys.stdout, flush=False)\n",
      "    \n",
      "    Prints the values to a stream, or to sys.stdout by default.\n",
      "    Optional keyword arguments:\n",
      "    file:  a file-like object (stream); defaults to the current sys.stdout.\n",
      "    sep:   string inserted between values, default a space.\n",
      "    end:   string appended after the last value, default a newline.\n",
      "    flush: whether to forcibly flush the stream.\n",
      "\n"
     ]
    }
   ],
   "source": [
    "# 查找帮助文档\n",
    "# 1.help函数\n",
    "help(print)"
   ]
  },
  {
   "cell_type": "code",
   "execution_count": 38,
   "metadata": {},
   "outputs": [
    {
     "name": "stdout",
     "output_type": "stream",
     "text": [
      "1 * 1 =  1 \n",
      "2 * 1 =  2  2 * 2 =  4 \n",
      "3 * 1 =  3  3 * 2 =  6  3 * 3 =  9 \n",
      "4 * 1 =  4  4 * 2 =  8  4 * 3 = 12  4 * 4 = 16 \n",
      "5 * 1 =  5  5 * 2 = 10  5 * 3 = 15  5 * 4 = 20  5 * 5 = 25 \n",
      "6 * 1 =  6  6 * 2 = 12  6 * 3 = 18  6 * 4 = 24  6 * 5 = 30  6 * 6 = 36 \n",
      "7 * 1 =  7  7 * 2 = 14  7 * 3 = 21  7 * 4 = 28  7 * 5 = 35  7 * 6 = 42  7 * 7 = 49 \n",
      "8 * 1 =  8  8 * 2 = 16  8 * 3 = 24  8 * 4 = 32  8 * 5 = 40  8 * 6 = 48  8 * 7 = 56  8 * 8 = 64 \n",
      "9 * 1 =  9  9 * 2 = 18  9 * 3 = 27  9 * 4 = 36  9 * 5 = 45  9 * 6 = 54  9 * 7 = 63  9 * 8 = 72  9 * 9 = 81 \n"
     ]
    }
   ],
   "source": [
    "# 九九乘法表\n",
    "# %(row * col) 需要在 .format函数之前\n",
    "for row in range(1,10):\n",
    "    for col in range(1,row+1):\n",
    "        if col == row:\n",
    "            print(\"{0} * {1} = %2d \".format(row,col)%(row * col))\n",
    "        else:\n",
    "            print(\"{0} * {1} = %2d \".format(row,col)%(row * col),end=\" \")\n"
   ]
  }
 ],
 "metadata": {
  "kernelspec": {
   "display_name": "Python 3",
   "language": "python",
   "name": "python3"
  },
  "language_info": {
   "codemirror_mode": {
    "name": "ipython",
    "version": 3
   },
   "file_extension": ".py",
   "mimetype": "text/x-python",
   "name": "python",
   "nbconvert_exporter": "python",
   "pygments_lexer": "ipython3",
   "version": "3.6.3"
  }
 },
 "nbformat": 4,
 "nbformat_minor": 2
}
