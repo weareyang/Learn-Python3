{
 "cells": [
  {
   "cell_type": "markdown",
   "metadata": {},
   "source": [
    "# Python概述：\n",
    "- python简史：\n",
    "    - 1989年， Guido van Rossum\n",
    "    - 2008： python3.0 诞生\n",
    "    - 2014： 宣布2.7支持到2020\n",
    "- python特点：\n",
    "    - 速度（相对概念）：运行比java慢20倍左右，开发速度快\n",
    "- python应用领域：\n",
    "    - 全能\n",
    "- python设计哲学：\n",
    "    - 平衡发展，样样通，简介明了\n",
    "- 环境问题：\n",
    "    - python解释器\n",
    "    - anaconda+pycharm\n",
    "- python执行方式：\n",
    "    - 逐行执行，遇到问题即刻终止"
   ]
  }
 ],
 "metadata": {
  "kernelspec": {
   "display_name": "Python 3",
   "language": "python",
   "name": "python3"
  },
  "language_info": {
   "codemirror_mode": {
    "name": "ipython",
    "version": 3
   },
   "file_extension": ".py",
   "mimetype": "text/x-python",
   "name": "python",
   "nbconvert_exporter": "python",
   "pygments_lexer": "ipython3",
   "version": "3.6.4"
  }
 },
 "nbformat": 4,
 "nbformat_minor": 2
}
