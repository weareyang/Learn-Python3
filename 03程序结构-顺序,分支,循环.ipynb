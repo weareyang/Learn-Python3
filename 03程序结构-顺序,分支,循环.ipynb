{
 "cells": [
  {
   "cell_type": "markdown",
   "metadata": {},
   "source": [
    "# 程序结构\n",
    "  - 顺序\n",
    "  - 分支\n",
    "  - 循环"
   ]
  },
  {
   "cell_type": "markdown",
   "metadata": {},
   "source": [
    "# 分支\n",
    " - 语法\n",
    " \n",
    "     if 条件表达式:\n",
    "         语句1\n",
    "         语句2\n",
    "         ...\n",
    " - 注意\n",
    "     - 条件表达式的结果必须为布尔值\n",
    "     - 条件表达式后的冒号不能少\n",
    "     - 注意if后面的语句是语句块，同一语句块必须同一缩进等级\n",
    "     - 条件表达式的结果为True执行if后面的语句块"
   ]
  },
  {
   "cell_type": "code",
   "execution_count": 11,
   "metadata": {},
   "outputs": [
    {
     "name": "stdout",
     "output_type": "stream",
     "text": [
      "叫家长\n",
      "这里是if条件为True时的同一语句块，因为缩进一样\n"
     ]
    }
   ],
   "source": [
    "# if语句练习\n",
    "# 如果age小于18岁，则打印\"叫家长\"\n",
    "age = 17\n",
    "if age < 18:\n",
    "    print(\"叫家长\")\n",
    "    print(\"这里是if条件为True时的同一语句块，因为缩进一样\")"
   ]
  },
  {
   "cell_type": "markdown",
   "metadata": {},
   "source": [
    "### 双向分支\n",
    "- if...else...语句\n",
    "    \n",
    "        if 条件表达式:\n",
    "            语句1\n",
    "            语句2\n",
    "            ...\n",
    "        else:\n",
    "            语句1\n",
    "            语句2\n",
    "            ...\n",
    "- 一定会执行if或else中的一个，也仅执行一个\n",
    "- 缩进问题，if和else一个层级，其他语句一个层级\n",
    "- if或else中不能有不同的缩进级别的语句块\n",
    "- if中的语句块可以和else中的语句块处于不同缩进级别\n"
   ]
  },
  {
   "cell_type": "code",
   "execution_count": 12,
   "metadata": {},
   "outputs": [
    {
     "name": "stdout",
     "output_type": "stream",
     "text": [
      "请输入性别：男女\n",
      "你输入的性别是：男女\n",
      "我们不是男人\n",
      "else 我们是不同缩进\n",
      "我是if..else...后面的语句\n"
     ]
    }
   ],
   "source": [
    "# input的作用\n",
    "    # 1. 在屏幕上输出括号内的字符串\n",
    "    # 2. 接收用户输入的内容并返回到程序\n",
    "    # 3. input返回的内容一定是字符串类型\n",
    "gender = input(\"请输入性别：\")\n",
    "print(\"你输入的性别是：{0}\".format(gender))\n",
    "\n",
    "if gender == \"男\":\n",
    "    print(\"我们是男人\")\n",
    "else:# 不能有不同缩进级别的语句块\n",
    "    print(\"我们不是男人\")\n",
    "    print(\"else 我们是不同缩进\")\n",
    "print(\"我是if..else...后面的语句\")"
   ]
  },
  {
   "cell_type": "code",
   "execution_count": 20,
   "metadata": {},
   "outputs": [
    {
     "name": "stdout",
     "output_type": "stream",
     "text": [
      "请输入你的成绩：88\n",
      "B等，潜力生\n"
     ]
    }
   ],
   "source": [
    "# 根据学生成绩判断成绩等级\n",
    "score = input(\"请输入你的成绩：\")\n",
    "#将数字字符串转成int类型\n",
    "score = int(score)#如果有小数，请用float(score)\n",
    "if score >= 90:\n",
    "    print(\"A等，优生\")\n",
    "if score >= 80 and score < 90:\n",
    "    print(\"B等，潜力生\")\n",
    "if score >=70 and score < 80:\n",
    "    print(\"C等，中等生\")\n",
    "if score >=60 and score <70:\n",
    "    print(\"D等，筑基生\")\n",
    "if score < 60:\n",
    "    print(\"没你这样的学生\")"
   ]
  },
  {
   "cell_type": "markdown",
   "metadata": {},
   "source": [
    "## 多路分支\n",
    "    if 条件表达式:\n",
    "        语句1\n",
    "        语句2\n",
    "        ...\n",
    "    elif 条件表达式:\n",
    "        语句1\n",
    "        语句2\n",
    "        ...\n",
    "    elif 条件表达式:\n",
    "        语句1\n",
    "        语句2\n",
    "        ...\n",
    "    else:\n",
    "        语句1\n",
    "        ...\n",
    "- elif可以有很多个，但也只会执行一个\n",
    "- else可有可无"
   ]
  },
  {
   "cell_type": "code",
   "execution_count": 25,
   "metadata": {},
   "outputs": [
    {
     "name": "stdout",
     "output_type": "stream",
     "text": [
      "请输入你的成绩：70\n",
      "C等，中等生\n"
     ]
    }
   ],
   "source": [
    "# 根据学生成绩判断成绩等级\n",
    "score = input(\"请输入你的成绩：\")\n",
    "#将数字字符串转成int类型\n",
    "score = int(score)#如果有小数，请用float(score)\n",
    "if score >= 90:\n",
    "    print(\"A等，优生\")\n",
    "elif score >= 80:\n",
    "    print(\"B等，潜力生\")\n",
    "elif score >=70:\n",
    "    print(\"C等，中等生\")\n",
    "elif score >=60 :\n",
    "    print(\"D等，筑基生\")\n",
    "else:\n",
    "    print(\"没你这样的学生\")"
   ]
  },
  {
   "cell_type": "markdown",
   "metadata": {},
   "source": [
    "## if语句其他:\n",
    " - if语句可以嵌套使用，但不推荐\n",
    " - python没有switch-case语句"
   ]
  },
  {
   "cell_type": "markdown",
   "metadata": {},
   "source": [
    "# 知识补充\n",
    "\n",
    "## 列表\n",
    "- 列表就是一列数字或者其他的值，一般用中括号表示\n",
    "- 例如:[‘zhangsan’,'lisi','wangwu','zhaoqi']\n",
    "\n",
    "## range介绍\n",
    "- 生成一个数字序列\n"
   ]
  },
  {
   "cell_type": "code",
   "execution_count": 39,
   "metadata": {},
   "outputs": [
    {
     "name": "stdout",
     "output_type": "stream",
     "text": [
      "1\n",
      "2\n",
      "3\n",
      "4\n",
      "5\n",
      "6\n",
      "7\n",
      "8\n",
      "9\n",
      "10\n"
     ]
    }
   ],
   "source": [
    "# range练习\n",
    "# 打印1-10的数字\n",
    "# 注意，一般在python中，如果有表示数字范围的两个数，一般 包含左边数字 不包含右边数字\n",
    "# randint 是特例，它左右都包含\n",
    "\n",
    "# range 函数在python2 和 python3中有严重区别\n",
    "\n",
    "for i in range(1,11):\n",
    "    print(i)"
   ]
  },
  {
   "cell_type": "markdown",
   "metadata": {},
   "source": [
    "# 循环语句\n",
    " - 重复执行某些固定的动作或者处理基本固定的事物\n",
    " - 分类\n",
    "     - for循环\n",
    "     - while循环\n",
    "     \n",
    "\n",
    "## for循环\n",
    "- 语法\n",
    "\n",
    "     for 变量 in 序列:\n",
    "         \n",
    "         语句1\n",
    "         \n",
    "         语句2\n",
    "         \n",
    "         ...\n",
    "   "
   ]
  },
  {
   "cell_type": "code",
   "execution_count": 34,
   "metadata": {},
   "outputs": [
    {
     "name": "stdout",
     "output_type": "stream",
     "text": [
      "zhangsan\n",
      "lisi\n",
      "wangwu\n",
      "zhaoqi\n"
     ]
    }
   ],
   "source": [
    "# for循环案例\n",
    "# 打印学生姓名\n",
    "for name in ['zhangsan','lisi','wangwu','zhaoqi']:\n",
    "    print(name)"
   ]
  },
  {
   "cell_type": "code",
   "execution_count": 36,
   "metadata": {},
   "outputs": [
    {
     "name": "stdout",
     "output_type": "stream",
     "text": [
      "zhangsan\n",
      "你好！\n",
      "lisi\n",
      "你好！\n",
      "wangwu\n",
      "学霸wangwu来了\n",
      "zhaoqi\n",
      "你好！\n"
     ]
    }
   ],
   "source": [
    "# for循环案例\n",
    "# 打印学生姓名\n",
    "# 如果是wangwu，就就要说学霸wangwu来了\n",
    "for name in ['zhangsan','lisi','wangwu','zhaoqi']:\n",
    "    print(name)\n",
    "    if name == 'wangwu':\n",
    "        print(\"学霸{0}来了\".format(name))\n",
    "    else:\n",
    "        print(\"你好！\")"
   ]
  },
  {
   "cell_type": "markdown",
   "metadata": {},
   "source": [
    "### for-else语句\n",
    "- 当for循环结束的时候，会执行else语句\n",
    "- else语句是可选的"
   ]
  },
  {
   "cell_type": "code",
   "execution_count": 40,
   "metadata": {},
   "outputs": [
    {
     "name": "stdout",
     "output_type": "stream",
     "text": [
      "zhangsan\n",
      "你好！\n",
      "lisi\n",
      "你好！\n",
      "wangwu\n",
      "学霸wangwu来了\n",
      "zhaoqi\n",
      "你好！\n",
      "print over\n",
      "bye~\n"
     ]
    }
   ],
   "source": [
    "# for-else语句\n",
    "# 打印列表中的同学，如果没有在列表中，或者列表结束了，我们需要打印提示语句\n",
    "# 如果是wangwu，就就要说学霸wangwu来了\n",
    "for name in ['zhangsan','lisi','wangwu','zhaoqi']:\n",
    "    print(name)\n",
    "    if name == 'wangwu':\n",
    "        print(\"学霸{0}来了\".format(name))\n",
    "    else:\n",
    "        print(\"你好！\")\n",
    "else:\n",
    "    print(\"print over\\nbye~\")"
   ]
  },
  {
   "cell_type": "markdown",
   "metadata": {},
   "source": [
    "### for循环-break,continue,pass\n",
    "- break:无条件结束整个循环\n",
    "- continue:无条件结束本次循环，从新进入下一轮\n",
    "- pass:表示路过,通常用于占位"
   ]
  },
  {
   "cell_type": "code",
   "execution_count": 42,
   "metadata": {},
   "outputs": [
    {
     "name": "stdout",
     "output_type": "stream",
     "text": [
      "1\n",
      "2\n",
      "3\n",
      "4\n",
      "5\n",
      "6\n",
      "我找到了\n"
     ]
    }
   ],
   "source": [
    "# break练习\n",
    "# 在数字1-10中，寻找数字7，一旦找到，打印 我找到了，其余打印数字本身\n",
    "# 不成文的习惯\n",
    "    # for循环中变量一般用i,k,m,n,或者index,idx，item之类\n",
    "    # 在python中，如果循环变量名称不重要，可以用_代替\n",
    "for i in range(1,11):\n",
    "    if i == 7:\n",
    "        print(\"我找到了\")\n",
    "        break\n",
    "    else:\n",
    "        print(i)"
   ]
  },
  {
   "cell_type": "code",
   "execution_count": 46,
   "metadata": {},
   "outputs": [
    {
     "name": "stdout",
     "output_type": "stream",
     "text": [
      "执行了continue\n",
      "2是偶数\n",
      "执行了continue\n",
      "4是偶数\n",
      "执行了continue\n",
      "6是偶数\n",
      "执行了continue\n",
      "8是偶数\n",
      "执行了continue\n",
      "10是偶数\n",
      "----------------\n",
      "2是偶数\n",
      "4是偶数\n",
      "6是偶数\n",
      "8是偶数\n",
      "10是偶数\n",
      "----------------\n",
      "2是偶数\n",
      "4是偶数\n",
      "6是偶数\n",
      "8是偶数\n",
      "10是偶数\n"
     ]
    }
   ],
   "source": [
    "# continue练习\n",
    "# 在数字1-10中，寻找所有偶数，并打印\n",
    "# 不成文的习惯\n",
    "    # for循环中变量一般用i,k,m,n,或者index,idx，item之类\n",
    "    # 在python中，如果循环变量名称不重要，可以用_代替\n",
    "for i in range(1,11):\n",
    "    if i % 2 == 1:\n",
    "        print(\"执行了continue\")\n",
    "        continue\n",
    "    else:\n",
    "        print(\"{0}是偶数\".format(i))\n",
    "        \n",
    "print(\"----------------\")       \n",
    "\n",
    "for i in range(1,11):\n",
    "    if i % 2 == 0:\n",
    "        print(\"{0}是偶数\".format(i))\n",
    "\n",
    "print(\"----------------\")       \n",
    "\n",
    "for i in range(1,11):\n",
    "    if i % 2 == 1:\n",
    "        continue\n",
    "    print(\"{0}是偶数\".format(i))"
   ]
  },
  {
   "cell_type": "code",
   "execution_count": 51,
   "metadata": {},
   "outputs": [
    {
     "name": "stdout",
     "output_type": "stream",
     "text": [
      "1我也会打印\n",
      "2我也会打印\n",
      "3我也会打印\n",
      "4我也会打印\n",
      "5我也会打印\n",
      "6我也会打印\n",
      "7我也会打印\n",
      "8我也会打印\n",
      "9我也会打印\n",
      "10我也会打印\n"
     ]
    }
   ],
   "source": [
    "# pass练习，一般用于占位\n",
    "# pass 不会跳过功能，相当于java中的 ;\n",
    "for i in range(1,11):\n",
    "    pass #不知道写什么时，但这里有东西，用pass代替，不然会报语法错\n",
    "\n",
    "for i in range(1,11):\n",
    "    pass #不知道写什么时，但这里有东西，用pass代替\n",
    "    print(\"{0}我也会打印\".format(i))"
   ]
  },
  {
   "cell_type": "markdown",
   "metadata": {},
   "source": [
    "## while循环\n",
    "- 当某条件成立的时候，就循环，\n",
    "- 没有一个明确的循环的次数\n",
    "- 语法\n",
    "    \n",
    "    while 条件表达式:\n",
    "        语句块\n",
    "    "
   ]
  },
  {
   "cell_type": "code",
   "execution_count": 52,
   "metadata": {},
   "outputs": [
    {
     "name": "stdout",
     "output_type": "stream",
     "text": [
      "第1年拿了10670.0钱\n",
      "第2年拿了11384.89钱\n",
      "第3年拿了12147.677629999998钱\n",
      "第4年拿了12961.572031209998钱\n",
      "第5年拿了13829.997357301068钱\n",
      "第6年拿了14756.607180240238钱\n",
      "第7年拿了15745.299861316334钱\n",
      "第8年拿了16800.23495202453钱\n",
      "第9年拿了17925.85069381017钱\n",
      "第10年拿了19126.88269029545钱\n",
      "第11年拿了20408.383830545245钱\n"
     ]
    }
   ],
   "source": [
    "# while练习\n",
    "# 如果年利率是6.7%,本利是每年翻滚，则多少年后本钱会翻倍\n",
    "benqian = 10000 #本钱\n",
    "year = 0 # 记录多少年后翻倍\n",
    "while benqian < 20000:\n",
    "    benqian = benqian * (1+0.067)\n",
    "    year += 1\n",
    "    print(\"第{0}年拿了{1}钱\".format(year,benqian))"
   ]
  },
  {
   "cell_type": "markdown",
   "metadata": {},
   "source": [
    "### while...else...\n",
    "- else语句块只执行一次\n",
    "- 语法\n",
    "\n",
    "    while 条件表达式:\n",
    "        语句块\n",
    "    else:\n",
    "        语句块"
   ]
  },
  {
   "cell_type": "code",
   "execution_count": 55,
   "metadata": {},
   "outputs": [
    {
     "name": "stdout",
     "output_type": "stream",
     "text": [
      "第1年拿了10670.0钱\n",
      "第2年拿了11384.89钱\n",
      "第3年拿了12147.677629999998钱\n",
      "第4年拿了12961.572031209998钱\n",
      "第5年拿了13829.997357301068钱\n",
      "第6年拿了14756.607180240238钱\n",
      "第7年拿了15745.299861316334钱\n",
      "第8年拿了16800.23495202453钱\n",
      "第9年拿了17925.85069381017钱\n",
      "第10年拿了19126.88269029545钱\n",
      "第11年拿了20408.383830545245钱\n",
      "\r\n",
      "终于翻倍了\n"
     ]
    }
   ],
   "source": [
    "# while...else...练习\n",
    "# 如果年利率是6.7%,本利是每年翻滚，则多少年后本钱会翻倍\n",
    "benqian = 10000 #本钱\n",
    "year = 0 # 记录多少年后翻倍\n",
    "while benqian < 20000:\n",
    "    benqian = benqian * (1+0.067)\n",
    "    year += 1\n",
    "    print(\"第{0}年拿了{1}钱\".format(year,benqian))\n",
    "else:\n",
    "    print(\"\\r\\n终于翻倍了\")"
   ]
  }
 ],
 "metadata": {
  "kernelspec": {
   "display_name": "Python 3",
   "language": "python",
   "name": "python3"
  },
  "language_info": {
   "codemirror_mode": {
    "name": "ipython",
    "version": 3
   },
   "file_extension": ".py",
   "mimetype": "text/x-python",
   "name": "python",
   "nbconvert_exporter": "python",
   "pygments_lexer": "ipython3",
   "version": "3.6.4"
  }
 },
 "nbformat": 4,
 "nbformat_minor": 2
}
